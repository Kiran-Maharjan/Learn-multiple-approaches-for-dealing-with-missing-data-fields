{
  "cells": [
    {
      "metadata": {
        "_cell_guid": "3bd4b4df-0cc0-40b1-b4da-c0b0dcb413f8",
        "_uuid": "26816927ad8b3a35dc55fafc33efd187f30cde39"
      },
      "cell_type": "markdown",
      "source": "*This is part of the [Machine Learning](https://www.kaggle.com/learn/machine-learning) course. In this step, you will learn to submit your model to a machine learning competition.  It's fun, and it will give you a way to see your progress as your skills keep improving.*\n\n# Introduction\nMachine learning competitions are a great way to improve your skills and measure your progress as a data scientist. If you are using data from a competition on Kaggle, you can easily submit it from your notebook.  Here's how you do it.\n\n# Example\nWe're doing very minimal data set up here so we can focus on how to submit modeling results to competitions. Other tutorials will teach you how build great models. So the model in this example will be fairly simple. We'll start with the code to read data, select predictors, and fit a model."
    },
    {
      "metadata": {
        "_cell_guid": "8524922d-be55-46fd-863f-004261fcfff0",
        "_uuid": "58cfd95aa5563209575b12977280983ffeea6492",
        "trusted": false,
        "collapsed": true
      },
      "cell_type": "code",
      "source": "import pandas as pd\nfrom sklearn.ensemble import RandomForestRegressor\n#read datas---------which is for pattern making\ntrain=pd.read_csv('../input/train.csv')\n#create training predictors data\n#y\ny=train.SalePrice\n#x\npredictor_cols=['LotArea','OverallQual','YearBuilt','TotRmsAbvGrd']\nx=train[predictor_cols]\n#define model\nmy_model=RandomForestRegressor()\n#fit model\nmy_model.fit(x,y)",
      "execution_count": null,
      "outputs": []
    },
    {
      "metadata": {
        "_cell_guid": "677b20af-bc56-4db1-aac3-1010389367ba",
        "_uuid": "c5294634157ca8c52d35c999ee949023b9544ee1"
      },
      "cell_type": "markdown",
      "source": "In addition to your training data, there will be test data. This is frequently stored in a file with the title `test.csv`. This data won't include a column with your target (y), because that is what we'll have to predict and submit.  Here is sample code to do that. "
    },
    {
      "metadata": {
        "_cell_guid": "a023518d-78e0-4e58-a243-6d1fe98992b9",
        "_uuid": "7bc843ef333847d305f576489d3e2aa3afc9384d",
        "trusted": false,
        "collapsed": true
      },
      "cell_type": "code",
      "source": "#Read the test data ------which is for validation\n#unlike previous example, these are not divided into test and training data\ntest=pd.read_csv('../input/test.csv')\n#y is now becomes predicted prices as, we don't have predifined value of y\n#x,, here we have data ,where we hae x values, but not y value\ntest_x=test[predictor_cols]\n#no need to define model\n#no need to fit model\n#-- we do predict here by same model.(we use only one model)\npredict_prices=my_model.predict(test_x)\nprint(predict_prices)\n#predict()\n#mae\ntrain.describe()\n",
      "execution_count": null,
      "outputs": []
    },
    {
      "metadata": {
        "_cell_guid": "258e450a-d82c-4a7f-af22-cc695f74b4e3",
        "_uuid": "49e253dc359af831d8e248979b90c70dfcbef99a"
      },
      "cell_type": "markdown",
      "source": "# Prepare Submission File\nWe make submissions in CSV files.  Your submissions usually have two columns: an ID column and a prediction column.  The ID field comes from the test data (keeping whatever name the ID field had in that data, which for the housing data is the string 'Id'). The prediction column will use the name of the target field.\n\nWe will create a DataFrame with this data, and then use the dataframe's `to_csv` method to write our submission file.  Explicitly include the argument `index=False` to prevent pandas from adding another column in our csv file."
    },
    {
      "metadata": {
        "_cell_guid": "092f5aed-0de4-4295-80ee-c193c8b84edd",
        "collapsed": true,
        "_uuid": "da5946c5fbc32fdb537788cd6ad5da1d6d698ae6",
        "trusted": false
      },
      "cell_type": "code",
      "source": "#now let's make submission as saving files\n#we save 2 column, where ID and predicted output are saved\n#this needs dataFrames through pandas\nmy_submission=pd.DataFrame({'Id':test.Id,'SalesPrice':predict_prices})\nmy_submission.to_csv('submission.csv',index=False)",
      "execution_count": null,
      "outputs": []
    },
    {
      "metadata": {
        "_cell_guid": "ab2280a4-9c65-4810-8813-831f4dcd86e1",
        "_uuid": "97f80b7f76066fd78cdb5137757fb3c63abd0519"
      },
      "cell_type": "markdown",
      "source": "# Make Submission\nHit the blue **Publish** button at the top of your notebook screen.  It will take some time for your kernel to run.  When it has finished your navigation bar at the top of the screen will have a tab for **Output**.  This only shows up if you have written an output file (like we did in the **Prepare Submission File** step).  \n\n---\n![Imgur](https://i.imgur.com/hV9O90I.png)\n---\n\n# Last Steps \nClick on the Output button.  This will bring you to a screen with an option to **Submit to Competition**.  Hit that and you will see how your model performed.\n\nIf you want to go back to improve your model, click the Edit button, which re-opens the kernel.  You'll need to re-run all the cells when you re-open the kernel.\n\n# Conclusion\nYou've completed Level 1 of Machine Learning.  Congrats.  \n\nIf you are ready to keep improving your model (and your skills), start level 2 of [Learn Machine Learning](https://www.kaggle.com/learn/machine-learning). \n\nLevel 2 covers more powerful models, techniques to include non-numeric data, and more.  You can make more submissions to the competition and climb up the leaderboard as you go through the course.\n\n\n"
    }
  ],
  "metadata": {
    "kernelspec": {
      "display_name": "Python 3",
      "language": "python",
      "name": "python3"
    },
    "language_info": {
      "name": "python",
      "nbconvert_exporter": "python",
      "version": "3.6.4",
      "file_extension": ".py",
      "pygments_lexer": "ipython3",
      "mimetype": "text/x-python",
      "codemirror_mode": {
        "name": "ipython",
        "version": 3
      }
    }
  },
  "nbformat": 4,
  "nbformat_minor": 1
}